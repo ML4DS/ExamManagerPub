{
 "cells": [
  {
   "cell_type": "markdown",
   "metadata": {},
   "source": [
    "# Automatic Lab Evaluator\n",
    "\n",
    "## Assessment based on student-provided results\n",
    "\n",
    "Version History:\n",
    "\n",
    "Version 0.1 - Jerónimo Arenas García, Jesús Cid Sueiro, Vanessa Gómez Verdejo, Dec. 2016\n"
   ]
  },
  {
   "cell_type": "code",
   "execution_count": null,
   "metadata": {
    "collapsed": false
   },
   "outputs": [],
   "source": [
    "import numpy as np\n",
    "import pandas as pd\n",
    "import os\n",
    "from os.path import isfile, join\n",
    "import scipy.io as sio\n",
    "import scipy\n",
    "import zipfile as zp\n",
    "import shutil\n",
    "import difflib"
   ]
  },
  {
   "cell_type": "markdown",
   "metadata": {},
   "source": [
    "## 1. Read datafiles for all students\n",
    "\n",
    "Student datafiles can be in any of the following formats:\n",
    "\n",
    "   * `'.zip'`: When uncompressed, the zip may contain one or several matlab files. All matlab files are read and incorporated to a pandas Dataframe where each student is a column, and each index is a variable available for the exam solution\n",
    "   * `.mat'`: All data variables for the students are given in a single matlab file"
   ]
  },
  {
   "cell_type": "code",
   "execution_count": null,
   "metadata": {
    "collapsed": true
   },
   "outputs": [],
   "source": [
    "def readdatafiles(datafiles_path, splitsymbol):\n",
    "\n",
    "    temporary_dir = './tmp'\n",
    "    df = pd.DataFrame()\n",
    "    \n",
    "    datafiles = [f for f in os.listdir(datafiles_path) if isfile(join(datafiles_path, f))]\n",
    "    for dtfile in datafiles:\n",
    "        if dtfile.endswith('zip'):\n",
    "            #All files will be extracted and the contents incorporated to the Dataframe\n",
    "            NIA = dtfile.split(splitsymbol)[0]\n",
    "            idx = []\n",
    "            val = []\n",
    "            zpobj = zp.ZipFile(join(datafiles_path, dtfile))\n",
    "            for fileinzip in zpobj.namelist():\n",
    "                if fileinzip.endswith('mat'):\n",
    "                    #Matlab files are extracted to a temporal subfolder\n",
    "                    zpobj.extract(fileinzip, temporary_dir)\n",
    "                    data = sio.loadmat(join(temporary_dir,fileinzip))\n",
    "                    #Read all variable names and the corresponding data values\n",
    "                    for var in [el for el in data.keys() if not el.startswith('_')]:\n",
    "                        idx.append(var)\n",
    "                        val.append(data[var])\n",
    "            #If\n",
    "            if idx:\n",
    "                df[NIA] = pd.Series(val,index=idx)\n",
    "                \n",
    "            #Remove temporary directory, if it has been created\n",
    "            if os.path.exists(temporary_dir):\n",
    "                shutil.rmtree(temporary_dir)\n",
    "                    \n",
    "        elif dtfile.endswith('mat'):\n",
    "            NIA = dtfile.split(splitsymbol)[0]\n",
    "            print NIA\n",
    "            idx = []\n",
    "            val = []\n",
    "            data = sio.loadmat(join(datafiles_path, dtfile))\n",
    "            #Read all variable names and the corresponding data values\n",
    "            for var in [el for el in data.keys() if not el.startswith('_')]:\n",
    "                idx.append(var)\n",
    "                val.append(data[var])\n",
    "                \n",
    "            if idx:\n",
    "                df[NIA] = pd.Series(val,index=idx)\n",
    "                \n",
    "    return df\n",
    "        "
   ]
  },
  {
   "cell_type": "code",
   "execution_count": null,
   "metadata": {
    "collapsed": false
   },
   "outputs": [],
   "source": [
    "###########################################\n",
    "# EXAM DEPENDENT VARIABLE\n",
    "datafiles_path = './datafiles_Gbil/'\n",
    "##########################################\n",
    "\n",
    "student_data = readdatafiles(datafiles_path, splitsymbol='.')\n",
    "\n",
    "print 'Number of students in dataframe: ' + str(student_data.shape[1])\n",
    "print 'Number of variables read: ' + str(student_data.shape[0])\n",
    "\n",
    "print 'Displaying data for first three students ... '\n",
    "student_data[student_data.columns[:3]]"
   ]
  },
  {
   "cell_type": "markdown",
   "metadata": {},
   "source": [
    "## 2. Read answers provided by students\n"
   ]
  },
  {
   "cell_type": "markdown",
   "metadata": {},
   "source": [
    "### 2.1. Read student results into panda dataframe"
   ]
  },
  {
   "cell_type": "code",
   "execution_count": null,
   "metadata": {
    "collapsed": false
   },
   "outputs": [],
   "source": [
    "###########################################\n",
    "# EXAM DEPENDENT VARIABLE\n",
    "results_path = './entregas_GBil/'\n",
    "#Requested variable names in the wording of the exam\n",
    "truenames = ['sMSE', 'vx', 'sMSE0', 's25', 'SSE']\n",
    "###########################################\n",
    "\n",
    "student_results = readdatafiles(results_path, splitsymbol='_')\n",
    "newindex = truenames+[el for el in student_results.index.tolist() if el not in truenames]\n",
    "student_results = student_results.reindex(newindex)\n",
    "\n",
    "print 'Number of students in dataframe: ' + str(student_results.shape[1])\n",
    "print 'Number of variables read: ' + str(student_results.shape[0])\n",
    "\n",
    "print 'Displaying data for first three students ... '\n",
    "student_results[student_results.columns[:3]]"
   ]
  },
  {
   "cell_type": "markdown",
   "metadata": {},
   "source": [
    "### 2.2. Common Mistakes on variable names\n",
    "\n",
    "In view of all variable names provided by all students, we may decide to allow alternative names for variables without any penalty"
   ]
  },
  {
   "cell_type": "code",
   "execution_count": null,
   "metadata": {
    "collapsed": false
   },
   "outputs": [],
   "source": [
    "print 'Number of students in dataframe: ' + str(student_results.shape[1])\n",
    "\n",
    "print '\\nDisplaying number of missing data per variable name. \\nThose with a large number are a potential common mistakes\\nfor a variable name'\n",
    "\n",
    "student_results.isnull().sum(axis=1)"
   ]
  },
  {
   "cell_type": "code",
   "execution_count": null,
   "metadata": {
    "collapsed": false
   },
   "outputs": [],
   "source": [
    "###########################################\n",
    "# EXAM DEPENDENT VARIABLE\n",
    "\n",
    "#Dictionary with accepted mistakes in the following format\n",
    "#  Expected variable name : Accepted mistake\n",
    "Mistakes = {};\n",
    "##########################################\n",
    "\n",
    "for el in Mistakes:\n",
    "    student_results.loc[el] = student_results.loc[el].fillna(student_results.loc[Mistakes[el]])\n",
    "    \n",
    "for el in student_results.index.tolist():\n",
    "    if el not in truenames:\n",
    "        student_results.drop(el, inplace=True)\n",
    "        \n",
    "student_results[student_results.columns[:3]]"
   ]
  },
  {
   "cell_type": "markdown",
   "metadata": {},
   "source": [
    "### 2.3. Name to NIA dictionary\n",
    "\n",
    "Finally, since datafiles are created by NIA and results are available per student name, we need to create a dictionary connecting them"
   ]
  },
  {
   "cell_type": "code",
   "execution_count": null,
   "metadata": {
    "collapsed": false
   },
   "outputs": [],
   "source": [
    "###########################################\n",
    "# EXAM DEPENDENT VARIABLE\n",
    "excel_file = 'lista_clase_65.xlsx'\n",
    "language = 'english'\n",
    "###########################################\n",
    "\n",
    "student_NIA_names = pd.read_excel(excel_file)\n",
    "\n",
    "#UTF-8 encoding of everything\n",
    "for fld in student_NIA_names.keys():\n",
    "    if fld != 'NIU':\n",
    "        student_NIA_names[fld] = student_NIA_names[fld].str.encode('utf8')\n",
    "\n",
    "NIA_name = {}\n",
    "\n",
    "for el in student_results.columns.tolist():\n",
    "\n",
    "    sim_list = []\n",
    "\n",
    "    for idx,NIA in enumerate(student_NIA_names['NIU'].values):\n",
    "    \n",
    "        if language=='english':\n",
    "            std_name = student_NIA_names['First name'].values.tolist()[idx] + ' ' + \\\n",
    "                            student_NIA_names['Surname'].values.tolist()[idx]\n",
    "            sim_list.append(difflib.SequenceMatcher(a=el.lower(), b=std_name.lower()).ratio())\n",
    "        else:\n",
    "            std_name = student_NIA_names['Nombre'].values.tolist()[idx] + ' ' + \\\n",
    "                            student_NIA_names['Apellido(s)'].values.tolist()[idx]\n",
    "            sim_list.append(difflib.SequenceMatcher(a=el.lower(), b=std_name.lower()).ratio())\n",
    "    \n",
    "    max_sim = max(sim_list)\n",
    "    max_idx = sim_list.index(max_sim)\n",
    "    \n",
    "    NIA_name[student_NIA_names['NIU'].values.tolist()[max_idx]] = el\n",
    "    \n",
    "#Create name to NIA dictionary\n",
    "name_NIA = {NIA_name[el]: el for el in NIA_name}\n"
   ]
  },
  {
   "cell_type": "code",
   "execution_count": null,
   "metadata": {
    "collapsed": false
   },
   "outputs": [],
   "source": [
    "print name_NIA\n",
    "#print NIA_name\n",
    "#for el in NIA_name.keys():\n",
    "#    print str(el) + ' : ' + NIA_name[el]\n"
   ]
  },
  {
   "cell_type": "markdown",
   "metadata": {},
   "source": [
    "At this point we have:\n",
    "\n",
    "   * student_data: dataframe with data given to the students. Each index is a variable, and each column a NIA\n",
    "   * student_results: dataframe with student results. Each index is a variable, and each column a name\n",
    "   * NIA_name: NIA to name dictionary\n",
    "   * name_NIA: name to NIA dictionary"
   ]
  },
  {
   "cell_type": "markdown",
   "metadata": {
    "collapsed": true
   },
   "source": [
    "## 3. Exam solution\n",
    "\n",
    "In this section we implement the solution to the exam. This is a function that takes the variables generated for a given student and the answers provided by the student, and generates a structure with all posible answers, possibly with a penalty term associated to each answer."
   ]
  },
  {
   "cell_type": "code",
   "execution_count": null,
   "metadata": {
    "collapsed": false
   },
   "outputs": [],
   "source": [
    "#print NIA_name"
   ]
  },
  {
   "cell_type": "code",
   "execution_count": null,
   "metadata": {
    "collapsed": false
   },
   "outputs": [],
   "source": [
    "student = \n",
    "print student_data[str(name_NIA[student])]\n",
    "print student_results[student]\n"
   ]
  },
  {
   "cell_type": "code",
   "execution_count": null,
   "metadata": {
    "collapsed": false
   },
   "outputs": [],
   "source": [
    "def SolveLabXX(data, st_solution):\n",
    "    \"\"\"Solver for the practical\n",
    "    Input parameters:\n",
    "    data: A series with the data given to the student\n",
    "    st_solution: The solution provided by the student\n",
    "    \n",
    "    Output: A dataseries where each element is a list of tuples\n",
    "    with the format [(solution1, factor1), (solution2, factor2)]\n",
    "    \n",
    "    Factors are multiplicative factors to account for possible\n",
    "    penalties. A factor 1 should be given to a solution that should\n",
    "    not be penalized.\n",
    "    \"\"\"\n",
    "    \n",
    "    ds_values = []\n",
    "    ds_indexes = []\n",
    "    \n",
    "    ## Sec. 2.1\n",
    "    sMSE = []\n",
    "    \n",
    "    c = np.concatenate((data['u'][0],np.zeros((data['M']-1,))))\n",
    "    U = scipy.linalg.toeplitz(c,data['u'])\n",
    "    P = np.linalg.inv((U.dot(U.T) + (data['varN']/data['varS'])*np.eye(data['M'])))\n",
    "    \n",
    "    sMSE.append((P.dot(U).dot(data['x']),1))\n",
    "    \n",
    "    ds_values.append(sMSE)\n",
    "    ds_indexes.append('sMSE')\n",
    "    \n",
    "    ## Sec. 2.2\n",
    "    vx = []\n",
    "    u_star = np.concatenate(([0], np.flipud(data['u'][(-1*data['M']+1)::]).flatten())).reshape((data['M'],1))\n",
    "    vx.append((data['varN'] + data['varN']* u_star.T.dot(P).dot(u_star), 1))\n",
    "    \n",
    "    ds_values.append(vx)\n",
    "    ds_indexes.append('vx')\n",
    "    \n",
    "    ## Sec. 2.3\n",
    "    sMSE0 = []\n",
    "    U2 = np.delete(U, 2, axis=0)\n",
    "    P2 = np.linalg.inv((U2.dot(U2.T) + (data['varN']/data['varS'])*np.eye(data['M']-1)))\n",
    "    sMSE2 = P2.dot(U2).dot(data['x'])\n",
    "    sMSE0.append((np.insert(sMSE2, 2, [0], axis=0),1))\n",
    "    \n",
    "    ds_values.append(sMSE0)\n",
    "    ds_indexes.append('sMSE0')\n",
    "    \n",
    "    ## Sec. 2.4\n",
    "    s25 = []\n",
    "    \n",
    "    s = np.zeros((data['M'],))\n",
    "    mu = .005\n",
    "    \n",
    "    for iter in np.arange(25):\n",
    "        u_iter = U[:,iter]\n",
    "        x_pred = u_iter.dot(s)\n",
    "        x_iter = data['x'][iter]\n",
    "        s = s + mu * (x_iter - x_pred) * u_iter \n",
    "    \n",
    "    s25.append((s,1))\n",
    "    \n",
    "    ds_values.append(s25)\n",
    "    ds_indexes.append('s25')\n",
    "    \n",
    "    ## Sec. 2.5\n",
    "    \n",
    "    SSE = []\n",
    "    SSE.append((np.sum((data['x'].flatten() - U.T.dot(s))**2),1))\n",
    "    # Allow student solution\n",
    "    if not np.all(np.isnan(st_solution['s25'])):\n",
    "        st_s = st_solution['s25'].flatten()\n",
    "        if np.array_equal(s.shape, st_s.shape):\n",
    "            SSE.append((np.sum((data['x'].flatten() - U.T.dot(st_s))**2),1))\n",
    "            \n",
    "    ds_values.append(SSE)\n",
    "    ds_indexes.append('SSE')\n",
    "    \n",
    "    return pd.Series(ds_values, ds_indexes)\n",
    "    "
   ]
  },
  {
   "cell_type": "code",
   "execution_count": null,
   "metadata": {
    "collapsed": false
   },
   "outputs": [],
   "source": [
    "print student_results[student]\n",
    "print SolveLabXX(student_data[str(name_NIA[student])], student_results[student])"
   ]
  },
  {
   "cell_type": "markdown",
   "metadata": {},
   "source": [
    "## 4. Evaluation of all students"
   ]
  },
  {
   "cell_type": "code",
   "execution_count": null,
   "metadata": {
    "collapsed": true
   },
   "outputs": [],
   "source": [
    "def automatic_evaluator(student_results, solution, weights, tolerance):\n",
    "    if len(solution.keys())==len(weights) and len(solution.keys())==len(tolerance):\n",
    "        val = []\n",
    "        idx = []\n",
    "        for wgh,el,tol in zip(weights,solution.keys(),tolerance):\n",
    "            var_summary = []\n",
    "            #If the student has delivered the variable, append 1; otherwise 0\n",
    "            if not np.all(np.isnan(student_results[el])):\n",
    "                var_summary.append(1)\n",
    "                #Check all possible solutions against the one provided by the student\n",
    "                factors = [entry[1] for entry in solution[el]\n",
    "                       if np.array_equal(student_results[el].flatten().shape, entry[0].flatten().shape)\n",
    "                       and np.mean(np.abs(entry[0].flatten()-student_results[el].flatten()))<tol]\n",
    "                \n",
    "                if len(factors):\n",
    "                    max_factor = max(factors)\n",
    "                    var_summary.extend([1, max_factor, wgh, max_factor*wgh])\n",
    "                else:\n",
    "                    var_summary.extend([0, 0, wgh, 0])\n",
    "            else:\n",
    "                var_summary.extend([0, 0, 0, wgh, 0])\n",
    "            #Keep values corresponding to current variable\n",
    "            val.append(var_summary)\n",
    "            idx.append(el)\n",
    "        final_score = sum([item[-1] for item in val])\n",
    "        val.append(final_score)\n",
    "        idx.append('FinalScore')\n",
    "        return pd.Series(val,index=idx)\n",
    "    else:\n",
    "        print 'The number of weights and variables to evaluate differ. Please, check'\n",
    "        return []"
   ]
  },
  {
   "cell_type": "code",
   "execution_count": null,
   "metadata": {
    "collapsed": false
   },
   "outputs": [],
   "source": [
    "###########################################\n",
    "# EXAM DEPENDENT VARIABLE\n",
    "excel_output = 'Notas_65_Lab3.xlsx'\n",
    "weights = [3, 2, 1, 3, 1]\n",
    "tolerance = [1e-2, 1e-2, 1e-2, 1e-2, 1e-2]\n",
    "###########################################\n",
    "\n",
    "df = pd.DataFrame()\n",
    "\n",
    "for NIA in NIA_name.keys():\n",
    "    print NIA_name[NIA]\n",
    "    solution = SolveLabXX(student_data[str(NIA)], student_results[NIA_name[NIA]])\n",
    "    df[NIA_name[NIA].decode('utf8')] = automatic_evaluator(student_results[NIA_name[NIA]], solution, weights, tolerance)\n",
    "\n",
    "print df\n",
    "    \n",
    "df.T.to_excel(excel_output,columns=df.T.columns)"
   ]
  },
  {
   "cell_type": "code",
   "execution_count": null,
   "metadata": {
    "collapsed": false
   },
   "outputs": [],
   "source": [
    "NIA_name\n"
   ]
  },
  {
   "cell_type": "code",
   "execution_count": null,
   "metadata": {
    "collapsed": true
   },
   "outputs": [],
   "source": []
  }
 ],
 "metadata": {
  "anaconda-cloud": {},
  "kernelspec": {
   "display_name": "Python [default]",
   "language": "python",
   "name": "python2"
  },
  "language_info": {
   "codemirror_mode": {
    "name": "ipython",
    "version": 2
   },
   "file_extension": ".py",
   "mimetype": "text/x-python",
   "name": "python",
   "nbconvert_exporter": "python",
   "pygments_lexer": "ipython2",
   "version": "2.7.12"
  }
 },
 "nbformat": 4,
 "nbformat_minor": 0
}
